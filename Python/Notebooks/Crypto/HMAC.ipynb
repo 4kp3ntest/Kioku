{
 "cells": [
  {
   "cell_type": "markdown",
   "metadata": {},
   "source": [
    "# HMAC\n",
    "#1. Two constants i_pad and o_pad get derived from secret_key\n",
    "#2. XOR i_pad with padded secret_key (64bit)\n",
    "#3. Append data and hash() for the first time\n",
    "#4. XOR o_pad with padded secret key and add first hash()\n",
    "#5. hash() everything a second time\n",
    "\n",
    "\n",
    "<img style=\"float: left;\" src=\"src/HMAC.png\">"
   ]
  },
  {
   "cell_type": "code",
   "execution_count": 1,
   "metadata": {},
   "outputs": [],
   "source": [
    "import hmac, hashlib\n",
    "from Crypto import Random"
   ]
  },
  {
   "cell_type": "code",
   "execution_count": 2,
   "metadata": {},
   "outputs": [],
   "source": [
    "data = 'Hi Alice, what about lunch today?\\n Bob'.encode()\n",
    "secret_key = Random.new().read(128)"
   ]
  },
  {
   "cell_type": "code",
   "execution_count": 3,
   "metadata": {},
   "outputs": [
    {
     "name": "stdout",
     "output_type": "stream",
     "text": [
      "b'\\xadm\\xc5\\x0c\\xd6\\xa2`\\xa7\\xbb\\x04FK\\xea\\xa4\\xd7!\\x85\\x81\\xda\\xec(\\xc8x\\x8d\\x11\\xd7\\xe3E\\xfbH\\x13\\x1cdEOi\\xec\\x81\\xcd\\x03\\xe6\\xbdD\\xc1\\xcf\\xba~\\x17'\n",
      "48\n"
     ]
    }
   ],
   "source": [
    "hash = hmac.new(secret_key, data, hashlib.sha384).digest()\n",
    "print(hash)\n",
    "print(len(hash)) # len(hash) depends only on used Hash Algorithm not on len(secret_key) or len(data)"
   ]
  }
 ],
 "metadata": {
  "kernelspec": {
   "display_name": "Python 3",
   "language": "python",
   "name": "python3"
  },
  "language_info": {
   "codemirror_mode": {
    "name": "ipython",
    "version": 3
   },
   "file_extension": ".py",
   "mimetype": "text/x-python",
   "name": "python",
   "nbconvert_exporter": "python",
   "pygments_lexer": "ipython3",
   "version": "3.7.3"
  }
 },
 "nbformat": 4,
 "nbformat_minor": 2
}
