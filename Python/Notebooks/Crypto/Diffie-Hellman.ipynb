{
 "cells": [
  {
   "cell_type": "markdown",
   "metadata": {},
   "source": [
    "# Diffie-Hellman "
   ]
  },
  {
   "cell_type": "code",
   "execution_count": 9,
   "metadata": {},
   "outputs": [],
   "source": [
    "# Publicly shared Variables Prime p and Base b\n",
    "# Some are defined in RFC 3526 and 5114\n",
    "# I'm using 1024-bit MODP Group with 160-bit Prime Order Subgroup\n",
    "sharedPrime = 124325339146889384540494091085456630009856882741872806181731279018491820800119460022367403769795008250021191767583423221479185609066059226301250167164084041279837566626881119772675984258163062926954046545485368458404445166682380071370274810671501916789361956272226105723317679562001235501455748016154805420913\n",
    "sharedBase = 115740200527109164239523414760926155534485715860090261532154107313946218459149402375178179458041461723723231563839316251515439564315555249353831328479173170684416728715378198172203100328308536292821245983596065287318698169565702979765910089654821728828592422299160041156491980943427556153020487552135890973413"
   ]
  },
  {
   "cell_type": "code",
   "execution_count": 33,
   "metadata": {},
   "outputs": [],
   "source": [
    "# From the RFC 5054 for SRP\n",
    "#The private values a and b SHOULD be at least 256-bit random numbers, \n",
    "#to give approximately 128 bits of security against certain methods of calculating discrete logarithms.\n",
    "aliceSecret = 21023435432456543653454334543234343     # a\n",
    "bobSecret = 694565456776543456787987654321345678   # b"
   ]
  },
  {
   "cell_type": "code",
   "execution_count": 34,
   "metadata": {},
   "outputs": [
    {
     "name": "stdout",
     "output_type": "stream",
     "text": [
      "\n",
      "    Alice Sends Over Public Chanel:  106647061976065519278987968116215207406722930141651408249657662007618405646279597246753072845519921782408691428165237732356831150965740209604925927579414009366079830539922061716175242311077134592779633558911074672526055517892622902401665485417989835064163329532954355493733189645924165594113487465782667850011\n",
      "    Bob Sends Over Public Chanel:  38316102359057663435115747401295532562271857823015859433672052783903932273875932032769953930502404472062730463842100702224956393215291135996710185124981812493877111569526425506755822386114290074633017892097745654686153615861054440931751041151620614472869488265726803563925290897091282396905502550160014335956\n",
      "\n",
      "------------\n",
      "\n",
      "Privately Calculated Shared Secret:\n",
      "Alice Shared Secret:  63739623884698390814041371921671237021895581481799774793777944465947531625263574188361247704586049224326284622037716043524743002751167603117196691937731645223075361696781762948139066448408824892930889204775671097806554075884281732442123441187909892479810475873025069071031104575892225546244695919514385704688\n",
      "    Bob Shared Secret:  63739623884698390814041371921671237021895581481799774793777944465947531625263574188361247704586049224326284622037716043524743002751167603117196691937731645223075361696781762948139066448408824892930889204775671097806554075884281732442123441187909892479810475873025069071031104575892225546244695919514385704688\n"
     ]
    }
   ],
   "source": [
    "# Alice Sends Bob A = g^a mod p\n",
    "A = pow(sharedBase, aliceSecret, sharedPrime)\n",
    "print( \"\\n    Alice Sends Over Public Chanel: \" , A )\n",
    " \n",
    "# Bob Sends Alice B = g^b mod p\n",
    "B = pow(sharedBase, bobSecret, sharedPrime)\n",
    "print(\"    Bob Sends Over Public Chanel: \", B )\n",
    "\n",
    "\n",
    "print( \"\\n------------\\n\" )\n",
    "\n",
    "\n",
    "print( \"Privately Calculated Shared Secret:\" )\n",
    "# Alice Computes Shared Secret: s = B^a mod p\n",
    "aliceSharedSecret = pow(B, aliceSecret, sharedPrime)\n",
    "print( \"Alice Shared Secret: \", aliceSharedSecret )\n",
    " \n",
    "# Bob Computes Shared Secret: s = A^b mod p\n",
    "bobSharedSecret = pow(A, bobSecret, sharedPrime)\n",
    "print( \"    Bob Shared Secret: \", bobSharedSecret )"
   ]
  }
 ],
 "metadata": {
  "kernelspec": {
   "display_name": "Python 3",
   "language": "python",
   "name": "python3"
  },
  "language_info": {
   "codemirror_mode": {
    "name": "ipython",
    "version": 3
   },
   "file_extension": ".py",
   "mimetype": "text/x-python",
   "name": "python",
   "nbconvert_exporter": "python",
   "pygments_lexer": "ipython3",
   "version": "3.7.3"
  }
 },
 "nbformat": 4,
 "nbformat_minor": 2
}
